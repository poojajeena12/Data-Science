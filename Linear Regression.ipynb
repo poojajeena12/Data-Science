{
 "cells": [
  {
   "cell_type": "code",
   "execution_count": 1,
   "metadata": {},
   "outputs": [],
   "source": [
    "import pandas as pd\n",
    "import numpy as np"
   ]
  },
  {
   "cell_type": "code",
   "execution_count": 2,
   "metadata": {},
   "outputs": [],
   "source": [
    "automobile = pd.read_csv(\"Automobile price data _Raw_.csv\")\n"
   ]
  },
  {
   "cell_type": "code",
   "execution_count": 3,
   "metadata": {},
   "outputs": [
    {
     "name": "stdout",
     "output_type": "stream",
     "text": [
      "<class 'pandas.core.frame.DataFrame'>\n",
      "RangeIndex: 205 entries, 0 to 204\n",
      "Data columns (total 26 columns):\n",
      "symboling            205 non-null int64\n",
      "normalized-losses    205 non-null object\n",
      "make                 205 non-null object\n",
      "fuel-type            205 non-null object\n",
      "aspiration           205 non-null object\n",
      "num-of-doors         205 non-null object\n",
      "body-style           205 non-null object\n",
      "drive-wheels         205 non-null object\n",
      "engine-location      205 non-null object\n",
      "wheel-base           205 non-null float64\n",
      "length               205 non-null float64\n",
      "width                205 non-null float64\n",
      "height               205 non-null float64\n",
      "curb-weight          205 non-null int64\n",
      "engine-type          205 non-null object\n",
      "num-of-cylinders     205 non-null object\n",
      "engine-size          205 non-null int64\n",
      "fuel-system          205 non-null object\n",
      "bore                 205 non-null object\n",
      "stroke               205 non-null object\n",
      "compression-ratio    205 non-null float64\n",
      "horsepower           205 non-null object\n",
      "peak-rpm             205 non-null object\n",
      "city-mpg             205 non-null int64\n",
      "highway-mpg          205 non-null int64\n",
      "price                205 non-null object\n",
      "dtypes: float64(5), int64(5), object(16)\n",
      "memory usage: 41.7+ KB\n"
     ]
    }
   ],
   "source": [
    "automobile.info()"
   ]
  },
  {
   "cell_type": "code",
   "execution_count": 4,
   "metadata": {
    "scrolled": true
   },
   "outputs": [
    {
     "data": {
      "text/html": [
       "<div>\n",
       "<style scoped>\n",
       "    .dataframe tbody tr th:only-of-type {\n",
       "        vertical-align: middle;\n",
       "    }\n",
       "\n",
       "    .dataframe tbody tr th {\n",
       "        vertical-align: top;\n",
       "    }\n",
       "\n",
       "    .dataframe thead th {\n",
       "        text-align: right;\n",
       "    }\n",
       "</style>\n",
       "<table border=\"1\" class=\"dataframe\">\n",
       "  <thead>\n",
       "    <tr style=\"text-align: right;\">\n",
       "      <th></th>\n",
       "      <th>symboling</th>\n",
       "      <th>normalized-losses</th>\n",
       "      <th>make</th>\n",
       "      <th>fuel-type</th>\n",
       "      <th>aspiration</th>\n",
       "      <th>num-of-doors</th>\n",
       "      <th>body-style</th>\n",
       "      <th>drive-wheels</th>\n",
       "      <th>engine-location</th>\n",
       "      <th>wheel-base</th>\n",
       "      <th>...</th>\n",
       "      <th>engine-size</th>\n",
       "      <th>fuel-system</th>\n",
       "      <th>bore</th>\n",
       "      <th>stroke</th>\n",
       "      <th>compression-ratio</th>\n",
       "      <th>horsepower</th>\n",
       "      <th>peak-rpm</th>\n",
       "      <th>city-mpg</th>\n",
       "      <th>highway-mpg</th>\n",
       "      <th>price</th>\n",
       "    </tr>\n",
       "  </thead>\n",
       "  <tbody>\n",
       "    <tr>\n",
       "      <th>0</th>\n",
       "      <td>3</td>\n",
       "      <td>?</td>\n",
       "      <td>alfa-romero</td>\n",
       "      <td>gas</td>\n",
       "      <td>std</td>\n",
       "      <td>two</td>\n",
       "      <td>convertible</td>\n",
       "      <td>rwd</td>\n",
       "      <td>front</td>\n",
       "      <td>88.6</td>\n",
       "      <td>...</td>\n",
       "      <td>130</td>\n",
       "      <td>mpfi</td>\n",
       "      <td>3.47</td>\n",
       "      <td>2.68</td>\n",
       "      <td>9.0</td>\n",
       "      <td>111</td>\n",
       "      <td>5000</td>\n",
       "      <td>21</td>\n",
       "      <td>27</td>\n",
       "      <td>13495</td>\n",
       "    </tr>\n",
       "    <tr>\n",
       "      <th>1</th>\n",
       "      <td>3</td>\n",
       "      <td>?</td>\n",
       "      <td>alfa-romero</td>\n",
       "      <td>gas</td>\n",
       "      <td>std</td>\n",
       "      <td>two</td>\n",
       "      <td>convertible</td>\n",
       "      <td>rwd</td>\n",
       "      <td>front</td>\n",
       "      <td>88.6</td>\n",
       "      <td>...</td>\n",
       "      <td>130</td>\n",
       "      <td>mpfi</td>\n",
       "      <td>3.47</td>\n",
       "      <td>2.68</td>\n",
       "      <td>9.0</td>\n",
       "      <td>111</td>\n",
       "      <td>5000</td>\n",
       "      <td>21</td>\n",
       "      <td>27</td>\n",
       "      <td>16500</td>\n",
       "    </tr>\n",
       "    <tr>\n",
       "      <th>2</th>\n",
       "      <td>1</td>\n",
       "      <td>?</td>\n",
       "      <td>alfa-romero</td>\n",
       "      <td>gas</td>\n",
       "      <td>std</td>\n",
       "      <td>two</td>\n",
       "      <td>hatchback</td>\n",
       "      <td>rwd</td>\n",
       "      <td>front</td>\n",
       "      <td>94.5</td>\n",
       "      <td>...</td>\n",
       "      <td>152</td>\n",
       "      <td>mpfi</td>\n",
       "      <td>2.68</td>\n",
       "      <td>3.47</td>\n",
       "      <td>9.0</td>\n",
       "      <td>154</td>\n",
       "      <td>5000</td>\n",
       "      <td>19</td>\n",
       "      <td>26</td>\n",
       "      <td>16500</td>\n",
       "    </tr>\n",
       "    <tr>\n",
       "      <th>3</th>\n",
       "      <td>2</td>\n",
       "      <td>164</td>\n",
       "      <td>audi</td>\n",
       "      <td>gas</td>\n",
       "      <td>std</td>\n",
       "      <td>four</td>\n",
       "      <td>sedan</td>\n",
       "      <td>fwd</td>\n",
       "      <td>front</td>\n",
       "      <td>99.8</td>\n",
       "      <td>...</td>\n",
       "      <td>109</td>\n",
       "      <td>mpfi</td>\n",
       "      <td>3.19</td>\n",
       "      <td>3.40</td>\n",
       "      <td>10.0</td>\n",
       "      <td>102</td>\n",
       "      <td>5500</td>\n",
       "      <td>24</td>\n",
       "      <td>30</td>\n",
       "      <td>13950</td>\n",
       "    </tr>\n",
       "    <tr>\n",
       "      <th>4</th>\n",
       "      <td>2</td>\n",
       "      <td>164</td>\n",
       "      <td>audi</td>\n",
       "      <td>gas</td>\n",
       "      <td>std</td>\n",
       "      <td>four</td>\n",
       "      <td>sedan</td>\n",
       "      <td>4wd</td>\n",
       "      <td>front</td>\n",
       "      <td>99.4</td>\n",
       "      <td>...</td>\n",
       "      <td>136</td>\n",
       "      <td>mpfi</td>\n",
       "      <td>3.19</td>\n",
       "      <td>3.40</td>\n",
       "      <td>8.0</td>\n",
       "      <td>115</td>\n",
       "      <td>5500</td>\n",
       "      <td>18</td>\n",
       "      <td>22</td>\n",
       "      <td>17450</td>\n",
       "    </tr>\n",
       "  </tbody>\n",
       "</table>\n",
       "<p>5 rows × 26 columns</p>\n",
       "</div>"
      ],
      "text/plain": [
       "   symboling normalized-losses         make fuel-type aspiration num-of-doors  \\\n",
       "0          3                 ?  alfa-romero       gas        std          two   \n",
       "1          3                 ?  alfa-romero       gas        std          two   \n",
       "2          1                 ?  alfa-romero       gas        std          two   \n",
       "3          2               164         audi       gas        std         four   \n",
       "4          2               164         audi       gas        std         four   \n",
       "\n",
       "    body-style drive-wheels engine-location  wheel-base  ...  engine-size  \\\n",
       "0  convertible          rwd           front        88.6  ...          130   \n",
       "1  convertible          rwd           front        88.6  ...          130   \n",
       "2    hatchback          rwd           front        94.5  ...          152   \n",
       "3        sedan          fwd           front        99.8  ...          109   \n",
       "4        sedan          4wd           front        99.4  ...          136   \n",
       "\n",
       "   fuel-system  bore  stroke compression-ratio horsepower  peak-rpm city-mpg  \\\n",
       "0         mpfi  3.47    2.68               9.0        111      5000       21   \n",
       "1         mpfi  3.47    2.68               9.0        111      5000       21   \n",
       "2         mpfi  2.68    3.47               9.0        154      5000       19   \n",
       "3         mpfi  3.19    3.40              10.0        102      5500       24   \n",
       "4         mpfi  3.19    3.40               8.0        115      5500       18   \n",
       "\n",
       "  highway-mpg  price  \n",
       "0          27  13495  \n",
       "1          27  16500  \n",
       "2          26  16500  \n",
       "3          30  13950  \n",
       "4          22  17450  \n",
       "\n",
       "[5 rows x 26 columns]"
      ]
     },
     "execution_count": 4,
     "metadata": {},
     "output_type": "execute_result"
    }
   ],
   "source": [
    "automobile.head()\n",
    "#'symboling', 'normalized-losses', 'fuel-type', 'num-of-doors', 'wheel-base', 'engine-size', 'bore', 'stroke', 'compression-ratio', 'horsepower','peak-rpm', 'city-mpg', 'highway-mpg'"
   ]
  },
  {
   "cell_type": "code",
   "execution_count": null,
   "metadata": {},
   "outputs": [],
   "source": []
  },
  {
   "cell_type": "code",
   "execution_count": 5,
   "metadata": {},
   "outputs": [
    {
     "data": {
      "text/plain": [
       "four      159\n",
       "six        24\n",
       "five       11\n",
       "eight       5\n",
       "two         4\n",
       "three       1\n",
       "twelve      1\n",
       "Name: num-of-cylinders, dtype: int64"
      ]
     },
     "execution_count": 5,
     "metadata": {},
     "output_type": "execute_result"
    }
   ],
   "source": [
    "#automobile['normalized-losses'].value_counts()\n",
    "#automobile['make'].value_counts()\n",
    "#automobile['fuel-type'].value_counts()\n",
    "#automobile['body-style'].value_counts()\n",
    "#automobile['price'].value_counts()\n",
    "automobile['num-of-cylinders'].value_counts()\n",
    "#automobile['num-of-doors'].value_counts()"
   ]
  },
  {
   "cell_type": "code",
   "execution_count": 6,
   "metadata": {},
   "outputs": [],
   "source": [
    "#automobile['num-of-doors'] = automobile['num-of-doors'].map({'four':4, 'two':2})\n",
    "#automobile['num-of-cylinders'] = automobile['num-of-cylinders'].map({'three':3, 'four':4, 'five':5, 'six':6, 'eight':8})\n",
    "#automobile['fuel-type'] = automobile['fuel-type'].map({'gas':0, 'diesel':1})"
   ]
  },
  {
   "cell_type": "code",
   "execution_count": 7,
   "metadata": {},
   "outputs": [],
   "source": [
    "#replacing '?'\n",
    "automobile = automobile.replace('?', np.nan)"
   ]
  },
  {
   "cell_type": "code",
   "execution_count": null,
   "metadata": {},
   "outputs": [],
   "source": []
  },
  {
   "cell_type": "code",
   "execution_count": 8,
   "metadata": {},
   "outputs": [],
   "source": [
    "#conver object datatype to numeric\n",
    "automobile['price'] = pd.to_numeric(automobile['price'])\n",
    "automobile['peak-rpm'] = pd.to_numeric(automobile['peak-rpm'])\n",
    "automobile['horsepower'] = pd.to_numeric(automobile['horsepower'])\n",
    "automobile['normalized-losses'] = pd.to_numeric(automobile['normalized-losses'])\n",
    "automobile['stroke']=pd.to_numeric(automobile['stroke'])\n",
    "automobile['bore']=pd.to_numeric(automobile['bore'])\n"
   ]
  },
  {
   "cell_type": "code",
   "execution_count": 9,
   "metadata": {},
   "outputs": [
    {
     "data": {
      "text/plain": [
       "symboling             0\n",
       "normalized-losses    41\n",
       "make                  0\n",
       "fuel-type             0\n",
       "aspiration            0\n",
       "num-of-doors          2\n",
       "body-style            0\n",
       "drive-wheels          0\n",
       "engine-location       0\n",
       "wheel-base            0\n",
       "length                0\n",
       "width                 0\n",
       "height                0\n",
       "curb-weight           0\n",
       "engine-type           0\n",
       "num-of-cylinders      0\n",
       "engine-size           0\n",
       "fuel-system           0\n",
       "bore                  4\n",
       "stroke                4\n",
       "compression-ratio     0\n",
       "horsepower            2\n",
       "peak-rpm              2\n",
       "city-mpg              0\n",
       "highway-mpg           0\n",
       "price                 4\n",
       "dtype: int64"
      ]
     },
     "execution_count": 9,
     "metadata": {},
     "output_type": "execute_result"
    }
   ],
   "source": [
    "automobile.isnull().sum()"
   ]
  },
  {
   "cell_type": "code",
   "execution_count": 10,
   "metadata": {},
   "outputs": [],
   "source": [
    "automobile=automobile.dropna()"
   ]
  },
  {
   "cell_type": "code",
   "execution_count": 11,
   "metadata": {},
   "outputs": [],
   "source": [
    "#removing columns of text data type\n",
    "#automobile=automobile.drop([2,4,6,7,8,11], axis=1)"
   ]
  },
  {
   "cell_type": "code",
   "execution_count": 12,
   "metadata": {},
   "outputs": [
    {
     "name": "stdout",
     "output_type": "stream",
     "text": [
      "<class 'pandas.core.frame.DataFrame'>\n",
      "Int64Index: 159 entries, 3 to 204\n",
      "Data columns (total 26 columns):\n",
      "symboling            159 non-null int64\n",
      "normalized-losses    159 non-null float64\n",
      "make                 159 non-null object\n",
      "fuel-type            159 non-null object\n",
      "aspiration           159 non-null object\n",
      "num-of-doors         159 non-null object\n",
      "body-style           159 non-null object\n",
      "drive-wheels         159 non-null object\n",
      "engine-location      159 non-null object\n",
      "wheel-base           159 non-null float64\n",
      "length               159 non-null float64\n",
      "width                159 non-null float64\n",
      "height               159 non-null float64\n",
      "curb-weight          159 non-null int64\n",
      "engine-type          159 non-null object\n",
      "num-of-cylinders     159 non-null object\n",
      "engine-size          159 non-null int64\n",
      "fuel-system          159 non-null object\n",
      "bore                 159 non-null float64\n",
      "stroke               159 non-null float64\n",
      "compression-ratio    159 non-null float64\n",
      "horsepower           159 non-null float64\n",
      "peak-rpm             159 non-null float64\n",
      "city-mpg             159 non-null int64\n",
      "highway-mpg          159 non-null int64\n",
      "price                159 non-null float64\n",
      "dtypes: float64(11), int64(5), object(10)\n",
      "memory usage: 33.5+ KB\n"
     ]
    }
   ],
   "source": [
    "automobile.info()"
   ]
  },
  {
   "cell_type": "code",
   "execution_count": 13,
   "metadata": {},
   "outputs": [
    {
     "data": {
      "text/html": [
       "<div>\n",
       "<style scoped>\n",
       "    .dataframe tbody tr th:only-of-type {\n",
       "        vertical-align: middle;\n",
       "    }\n",
       "\n",
       "    .dataframe tbody tr th {\n",
       "        vertical-align: top;\n",
       "    }\n",
       "\n",
       "    .dataframe thead th {\n",
       "        text-align: right;\n",
       "    }\n",
       "</style>\n",
       "<table border=\"1\" class=\"dataframe\">\n",
       "  <thead>\n",
       "    <tr style=\"text-align: right;\">\n",
       "      <th></th>\n",
       "      <th>symboling</th>\n",
       "      <th>normalized-losses</th>\n",
       "      <th>make</th>\n",
       "      <th>fuel-type</th>\n",
       "      <th>aspiration</th>\n",
       "      <th>num-of-doors</th>\n",
       "      <th>body-style</th>\n",
       "      <th>drive-wheels</th>\n",
       "      <th>engine-location</th>\n",
       "      <th>wheel-base</th>\n",
       "      <th>...</th>\n",
       "      <th>engine-size</th>\n",
       "      <th>fuel-system</th>\n",
       "      <th>bore</th>\n",
       "      <th>stroke</th>\n",
       "      <th>compression-ratio</th>\n",
       "      <th>horsepower</th>\n",
       "      <th>peak-rpm</th>\n",
       "      <th>city-mpg</th>\n",
       "      <th>highway-mpg</th>\n",
       "      <th>price</th>\n",
       "    </tr>\n",
       "  </thead>\n",
       "  <tbody>\n",
       "    <tr>\n",
       "      <th>3</th>\n",
       "      <td>2</td>\n",
       "      <td>164.0</td>\n",
       "      <td>audi</td>\n",
       "      <td>gas</td>\n",
       "      <td>std</td>\n",
       "      <td>four</td>\n",
       "      <td>sedan</td>\n",
       "      <td>fwd</td>\n",
       "      <td>front</td>\n",
       "      <td>99.8</td>\n",
       "      <td>...</td>\n",
       "      <td>109</td>\n",
       "      <td>mpfi</td>\n",
       "      <td>3.19</td>\n",
       "      <td>3.4</td>\n",
       "      <td>10.0</td>\n",
       "      <td>102.0</td>\n",
       "      <td>5500.0</td>\n",
       "      <td>24</td>\n",
       "      <td>30</td>\n",
       "      <td>13950.0</td>\n",
       "    </tr>\n",
       "    <tr>\n",
       "      <th>4</th>\n",
       "      <td>2</td>\n",
       "      <td>164.0</td>\n",
       "      <td>audi</td>\n",
       "      <td>gas</td>\n",
       "      <td>std</td>\n",
       "      <td>four</td>\n",
       "      <td>sedan</td>\n",
       "      <td>4wd</td>\n",
       "      <td>front</td>\n",
       "      <td>99.4</td>\n",
       "      <td>...</td>\n",
       "      <td>136</td>\n",
       "      <td>mpfi</td>\n",
       "      <td>3.19</td>\n",
       "      <td>3.4</td>\n",
       "      <td>8.0</td>\n",
       "      <td>115.0</td>\n",
       "      <td>5500.0</td>\n",
       "      <td>18</td>\n",
       "      <td>22</td>\n",
       "      <td>17450.0</td>\n",
       "    </tr>\n",
       "    <tr>\n",
       "      <th>6</th>\n",
       "      <td>1</td>\n",
       "      <td>158.0</td>\n",
       "      <td>audi</td>\n",
       "      <td>gas</td>\n",
       "      <td>std</td>\n",
       "      <td>four</td>\n",
       "      <td>sedan</td>\n",
       "      <td>fwd</td>\n",
       "      <td>front</td>\n",
       "      <td>105.8</td>\n",
       "      <td>...</td>\n",
       "      <td>136</td>\n",
       "      <td>mpfi</td>\n",
       "      <td>3.19</td>\n",
       "      <td>3.4</td>\n",
       "      <td>8.5</td>\n",
       "      <td>110.0</td>\n",
       "      <td>5500.0</td>\n",
       "      <td>19</td>\n",
       "      <td>25</td>\n",
       "      <td>17710.0</td>\n",
       "    </tr>\n",
       "    <tr>\n",
       "      <th>8</th>\n",
       "      <td>1</td>\n",
       "      <td>158.0</td>\n",
       "      <td>audi</td>\n",
       "      <td>gas</td>\n",
       "      <td>turbo</td>\n",
       "      <td>four</td>\n",
       "      <td>sedan</td>\n",
       "      <td>fwd</td>\n",
       "      <td>front</td>\n",
       "      <td>105.8</td>\n",
       "      <td>...</td>\n",
       "      <td>131</td>\n",
       "      <td>mpfi</td>\n",
       "      <td>3.13</td>\n",
       "      <td>3.4</td>\n",
       "      <td>8.3</td>\n",
       "      <td>140.0</td>\n",
       "      <td>5500.0</td>\n",
       "      <td>17</td>\n",
       "      <td>20</td>\n",
       "      <td>23875.0</td>\n",
       "    </tr>\n",
       "    <tr>\n",
       "      <th>10</th>\n",
       "      <td>2</td>\n",
       "      <td>192.0</td>\n",
       "      <td>bmw</td>\n",
       "      <td>gas</td>\n",
       "      <td>std</td>\n",
       "      <td>two</td>\n",
       "      <td>sedan</td>\n",
       "      <td>rwd</td>\n",
       "      <td>front</td>\n",
       "      <td>101.2</td>\n",
       "      <td>...</td>\n",
       "      <td>108</td>\n",
       "      <td>mpfi</td>\n",
       "      <td>3.50</td>\n",
       "      <td>2.8</td>\n",
       "      <td>8.8</td>\n",
       "      <td>101.0</td>\n",
       "      <td>5800.0</td>\n",
       "      <td>23</td>\n",
       "      <td>29</td>\n",
       "      <td>16430.0</td>\n",
       "    </tr>\n",
       "  </tbody>\n",
       "</table>\n",
       "<p>5 rows × 26 columns</p>\n",
       "</div>"
      ],
      "text/plain": [
       "    symboling  normalized-losses  make fuel-type aspiration num-of-doors  \\\n",
       "3           2              164.0  audi       gas        std         four   \n",
       "4           2              164.0  audi       gas        std         four   \n",
       "6           1              158.0  audi       gas        std         four   \n",
       "8           1              158.0  audi       gas      turbo         four   \n",
       "10          2              192.0   bmw       gas        std          two   \n",
       "\n",
       "   body-style drive-wheels engine-location  wheel-base  ...  engine-size  \\\n",
       "3       sedan          fwd           front        99.8  ...          109   \n",
       "4       sedan          4wd           front        99.4  ...          136   \n",
       "6       sedan          fwd           front       105.8  ...          136   \n",
       "8       sedan          fwd           front       105.8  ...          131   \n",
       "10      sedan          rwd           front       101.2  ...          108   \n",
       "\n",
       "    fuel-system  bore  stroke compression-ratio horsepower  peak-rpm city-mpg  \\\n",
       "3          mpfi  3.19     3.4              10.0      102.0    5500.0       24   \n",
       "4          mpfi  3.19     3.4               8.0      115.0    5500.0       18   \n",
       "6          mpfi  3.19     3.4               8.5      110.0    5500.0       19   \n",
       "8          mpfi  3.13     3.4               8.3      140.0    5500.0       17   \n",
       "10         mpfi  3.50     2.8               8.8      101.0    5800.0       23   \n",
       "\n",
       "    highway-mpg    price  \n",
       "3            30  13950.0  \n",
       "4            22  17450.0  \n",
       "6            25  17710.0  \n",
       "8            20  23875.0  \n",
       "10           29  16430.0  \n",
       "\n",
       "[5 rows x 26 columns]"
      ]
     },
     "execution_count": 13,
     "metadata": {},
     "output_type": "execute_result"
    }
   ],
   "source": [
    "automobile.head()"
   ]
  },
  {
   "cell_type": "code",
   "execution_count": 14,
   "metadata": {},
   "outputs": [
    {
     "data": {
      "text/plain": [
       "3     54.3\n",
       "4     54.3\n",
       "6     55.7\n",
       "8     55.9\n",
       "10    54.3\n",
       "Name: height, dtype: float64"
      ]
     },
     "execution_count": 14,
     "metadata": {},
     "output_type": "execute_result"
    }
   ],
   "source": [
    "automobile['height'].head()"
   ]
  },
  {
   "cell_type": "code",
   "execution_count": 15,
   "metadata": {},
   "outputs": [
    {
     "data": {
      "text/plain": [
       "<matplotlib.axes._subplots.AxesSubplot at 0x24f34e0c0b8>"
      ]
     },
     "execution_count": 15,
     "metadata": {},
     "output_type": "execute_result"
    }
   ],
   "source": [
    "import seaborn as sns\n",
    "sns.distplot(automobile['price'])"
   ]
  },
  {
   "cell_type": "code",
   "execution_count": 16,
   "metadata": {},
   "outputs": [
    {
     "data": {
      "text/plain": [
       "<matplotlib.axes._subplots.AxesSubplot at 0x24f35263f98>"
      ]
     },
     "execution_count": 16,
     "metadata": {},
     "output_type": "execute_result"
    },
    {
     "data": {
      "image/png": "[encoded data removed]",
      "text/plain": [
       "<Figure size 432x288 with 1 Axes>"
      ]
     },
     "metadata": {
      "needs_background": "light"
     },
     "output_type": "display_data"
    }
   ],
   "source": [
    "sns.boxplot(automobile['price'])"
   ]
  },
  {
   "cell_type": "code",
   "execution_count": 17,
   "metadata": {},
   "outputs": [
    {
     "data": {
      "text/plain": [
       "<matplotlib.axes._subplots.AxesSubplot at 0x24f362b61d0>"
      ]
     },
     "execution_count": 17,
     "metadata": {},
     "output_type": "execute_result"
    },
    {
     "data": {
      "image/png": "[encoded data removed]",
      "text/plain": [
       "<Figure size 432x288 with 1 Axes>"
      ]
     },
     "metadata": {
      "needs_background": "light"
     },
     "output_type": "display_data"
    }
   ],
   "source": [
    "automobile['price'].hist()"
   ]
  },
  {
   "cell_type": "code",
   "execution_count": 18,
   "metadata": {},
   "outputs": [
    {
     "data": {
      "text/plain": [
       "<matplotlib.axes._subplots.AxesSubplot at 0x24f363439b0>"
      ]
     },
     "execution_count": 18,
     "metadata": {},
     "output_type": "execute_result"
    },
    {
     "data": {
      "image/png": "[encoded data removed]",
      "text/plain": [
       "<Figure size 432x288 with 2 Axes>"
      ]
     },
     "metadata": {
      "needs_background": "light"
     },
     "output_type": "display_data"
    }
   ],
   "source": [
    "sns.heatmap(automobile.corr())"
   ]
  },
  {
   "cell_type": "code",
   "execution_count": 19,
   "metadata": {},
   "outputs": [
    {
     "data": {
      "text/html": [
       "<div>\n",
       "<style scoped>\n",
       "    .dataframe tbody tr th:only-of-type {\n",
       "        vertical-align: middle;\n",
       "    }\n",
       "\n",
       "    .dataframe tbody tr th {\n",
       "        vertical-align: top;\n",
       "    }\n",
       "\n",
       "    .dataframe thead th {\n",
       "        text-align: right;\n",
       "    }\n",
       "</style>\n",
       "<table border=\"1\" class=\"dataframe\">\n",
       "  <thead>\n",
       "    <tr style=\"text-align: right;\">\n",
       "      <th></th>\n",
       "      <th>symboling</th>\n",
       "      <th>normalized-losses</th>\n",
       "      <th>wheel-base</th>\n",
       "      <th>length</th>\n",
       "      <th>width</th>\n",
       "      <th>height</th>\n",
       "      <th>curb-weight</th>\n",
       "      <th>engine-size</th>\n",
       "      <th>bore</th>\n",
       "      <th>stroke</th>\n",
       "      <th>compression-ratio</th>\n",
       "      <th>horsepower</th>\n",
       "      <th>peak-rpm</th>\n",
       "      <th>city-mpg</th>\n",
       "      <th>highway-mpg</th>\n",
       "      <th>price</th>\n",
       "    </tr>\n",
       "  </thead>\n",
       "  <tbody>\n",
       "    <tr>\n",
       "      <th>symboling</th>\n",
       "      <td>1.000000</td>\n",
       "      <td>0.518344</td>\n",
       "      <td>-0.520591</td>\n",
       "      <td>-0.336257</td>\n",
       "      <td>-0.219186</td>\n",
       "      <td>-0.475185</td>\n",
       "      <td>-0.251880</td>\n",
       "      <td>-0.109453</td>\n",
       "      <td>-0.256469</td>\n",
       "      <td>-0.021285</td>\n",
       "      <td>-0.138316</td>\n",
       "      <td>-0.003949</td>\n",
       "      <td>0.199106</td>\n",
       "      <td>0.089550</td>\n",
       "      <td>0.149830</td>\n",
       "      <td>-0.162794</td>\n",
       "    </tr>\n",
       "    <tr>\n",
       "      <th>normalized-losses</th>\n",
       "      <td>0.518344</td>\n",
       "      <td>1.000000</td>\n",
       "      <td>-0.060086</td>\n",
       "      <td>0.035541</td>\n",
       "      <td>0.109726</td>\n",
       "      <td>-0.413702</td>\n",
       "      <td>0.125858</td>\n",
       "      <td>0.207820</td>\n",
       "      <td>-0.031558</td>\n",
       "      <td>0.063330</td>\n",
       "      <td>-0.127259</td>\n",
       "      <td>0.290511</td>\n",
       "      <td>0.237697</td>\n",
       "      <td>-0.235523</td>\n",
       "      <td>-0.188564</td>\n",
       "      <td>0.202761</td>\n",
       "    </tr>\n",
       "    <tr>\n",
       "      <th>wheel-base</th>\n",
       "      <td>-0.520591</td>\n",
       "      <td>-0.060086</td>\n",
       "      <td>1.000000</td>\n",
       "      <td>0.871534</td>\n",
       "      <td>0.814991</td>\n",
       "      <td>0.555767</td>\n",
       "      <td>0.810181</td>\n",
       "      <td>0.649206</td>\n",
       "      <td>0.578159</td>\n",
       "      <td>0.167449</td>\n",
       "      <td>0.291431</td>\n",
       "      <td>0.516948</td>\n",
       "      <td>-0.289234</td>\n",
       "      <td>-0.580657</td>\n",
       "      <td>-0.611750</td>\n",
       "      <td>0.734419</td>\n",
       "    </tr>\n",
       "    <tr>\n",
       "      <th>length</th>\n",
       "      <td>-0.336257</td>\n",
       "      <td>0.035541</td>\n",
       "      <td>0.871534</td>\n",
       "      <td>1.000000</td>\n",
       "      <td>0.838338</td>\n",
       "      <td>0.499251</td>\n",
       "      <td>0.871291</td>\n",
       "      <td>0.725953</td>\n",
       "      <td>0.646318</td>\n",
       "      <td>0.121073</td>\n",
       "      <td>0.184814</td>\n",
       "      <td>0.672063</td>\n",
       "      <td>-0.234074</td>\n",
       "      <td>-0.724544</td>\n",
       "      <td>-0.724599</td>\n",
       "      <td>0.760952</td>\n",
       "    </tr>\n",
       "    <tr>\n",
       "      <th>width</th>\n",
       "      <td>-0.219186</td>\n",
       "      <td>0.109726</td>\n",
       "      <td>0.814991</td>\n",
       "      <td>0.838338</td>\n",
       "      <td>1.000000</td>\n",
       "      <td>0.292706</td>\n",
       "      <td>0.870595</td>\n",
       "      <td>0.779253</td>\n",
       "      <td>0.572554</td>\n",
       "      <td>0.196619</td>\n",
       "      <td>0.258752</td>\n",
       "      <td>0.681872</td>\n",
       "      <td>-0.232216</td>\n",
       "      <td>-0.666684</td>\n",
       "      <td>-0.693339</td>\n",
       "      <td>0.843371</td>\n",
       "    </tr>\n",
       "    <tr>\n",
       "      <th>height</th>\n",
       "      <td>-0.475185</td>\n",
       "      <td>-0.413702</td>\n",
       "      <td>0.555767</td>\n",
       "      <td>0.499251</td>\n",
       "      <td>0.292706</td>\n",
       "      <td>1.000000</td>\n",
       "      <td>0.367052</td>\n",
       "      <td>0.111083</td>\n",
       "      <td>0.254836</td>\n",
       "      <td>-0.091313</td>\n",
       "      <td>0.233308</td>\n",
       "      <td>0.034317</td>\n",
       "      <td>-0.245864</td>\n",
       "      <td>-0.199737</td>\n",
       "      <td>-0.226136</td>\n",
       "      <td>0.244836</td>\n",
       "    </tr>\n",
       "    <tr>\n",
       "      <th>curb-weight</th>\n",
       "      <td>-0.251880</td>\n",
       "      <td>0.125858</td>\n",
       "      <td>0.810181</td>\n",
       "      <td>0.871291</td>\n",
       "      <td>0.870595</td>\n",
       "      <td>0.367052</td>\n",
       "      <td>1.000000</td>\n",
       "      <td>0.888626</td>\n",
       "      <td>0.645792</td>\n",
       "      <td>0.173844</td>\n",
       "      <td>0.224724</td>\n",
       "      <td>0.790095</td>\n",
       "      <td>-0.259988</td>\n",
       "      <td>-0.762155</td>\n",
       "      <td>-0.789338</td>\n",
       "      <td>0.893639</td>\n",
       "    </tr>\n",
       "    <tr>\n",
       "      <th>engine-size</th>\n",
       "      <td>-0.109453</td>\n",
       "      <td>0.207820</td>\n",
       "      <td>0.649206</td>\n",
       "      <td>0.725953</td>\n",
       "      <td>0.779253</td>\n",
       "      <td>0.111083</td>\n",
       "      <td>0.888626</td>\n",
       "      <td>1.000000</td>\n",
       "      <td>0.595737</td>\n",
       "      <td>0.299683</td>\n",
       "      <td>0.141097</td>\n",
       "      <td>0.812073</td>\n",
       "      <td>-0.284686</td>\n",
       "      <td>-0.699139</td>\n",
       "      <td>-0.714095</td>\n",
       "      <td>0.841496</td>\n",
       "    </tr>\n",
       "    <tr>\n",
       "      <th>bore</th>\n",
       "      <td>-0.256469</td>\n",
       "      <td>-0.031558</td>\n",
       "      <td>0.578159</td>\n",
       "      <td>0.646318</td>\n",
       "      <td>0.572554</td>\n",
       "      <td>0.254836</td>\n",
       "      <td>0.645792</td>\n",
       "      <td>0.595737</td>\n",
       "      <td>1.000000</td>\n",
       "      <td>-0.102581</td>\n",
       "      <td>0.015119</td>\n",
       "      <td>0.560239</td>\n",
       "      <td>-0.312269</td>\n",
       "      <td>-0.590440</td>\n",
       "      <td>-0.590850</td>\n",
       "      <td>0.533890</td>\n",
       "    </tr>\n",
       "    <tr>\n",
       "      <th>stroke</th>\n",
       "      <td>-0.021285</td>\n",
       "      <td>0.063330</td>\n",
       "      <td>0.167449</td>\n",
       "      <td>0.121073</td>\n",
       "      <td>0.196619</td>\n",
       "      <td>-0.091313</td>\n",
       "      <td>0.173844</td>\n",
       "      <td>0.299683</td>\n",
       "      <td>-0.102581</td>\n",
       "      <td>1.000000</td>\n",
       "      <td>0.243587</td>\n",
       "      <td>0.148804</td>\n",
       "      <td>-0.011312</td>\n",
       "      <td>-0.020055</td>\n",
       "      <td>-0.012934</td>\n",
       "      <td>0.160664</td>\n",
       "    </tr>\n",
       "    <tr>\n",
       "      <th>compression-ratio</th>\n",
       "      <td>-0.138316</td>\n",
       "      <td>-0.127259</td>\n",
       "      <td>0.291431</td>\n",
       "      <td>0.184814</td>\n",
       "      <td>0.258752</td>\n",
       "      <td>0.233308</td>\n",
       "      <td>0.224724</td>\n",
       "      <td>0.141097</td>\n",
       "      <td>0.015119</td>\n",
       "      <td>0.243587</td>\n",
       "      <td>1.000000</td>\n",
       "      <td>-0.162305</td>\n",
       "      <td>-0.416769</td>\n",
       "      <td>0.278332</td>\n",
       "      <td>0.221483</td>\n",
       "      <td>0.209361</td>\n",
       "    </tr>\n",
       "    <tr>\n",
       "      <th>horsepower</th>\n",
       "      <td>-0.003949</td>\n",
       "      <td>0.290511</td>\n",
       "      <td>0.516948</td>\n",
       "      <td>0.672063</td>\n",
       "      <td>0.681872</td>\n",
       "      <td>0.034317</td>\n",
       "      <td>0.790095</td>\n",
       "      <td>0.812073</td>\n",
       "      <td>0.560239</td>\n",
       "      <td>0.148804</td>\n",
       "      <td>-0.162305</td>\n",
       "      <td>1.000000</td>\n",
       "      <td>0.074057</td>\n",
       "      <td>-0.837214</td>\n",
       "      <td>-0.827941</td>\n",
       "      <td>0.759874</td>\n",
       "    </tr>\n",
       "    <tr>\n",
       "      <th>peak-rpm</th>\n",
       "      <td>0.199106</td>\n",
       "      <td>0.237697</td>\n",
       "      <td>-0.289234</td>\n",
       "      <td>-0.234074</td>\n",
       "      <td>-0.232216</td>\n",
       "      <td>-0.245864</td>\n",
       "      <td>-0.259988</td>\n",
       "      <td>-0.284686</td>\n",
       "      <td>-0.312269</td>\n",
       "      <td>-0.011312</td>\n",
       "      <td>-0.416769</td>\n",
       "      <td>0.074057</td>\n",
       "      <td>1.000000</td>\n",
       "      <td>-0.052929</td>\n",
       "      <td>-0.032777</td>\n",
       "      <td>-0.171916</td>\n",
       "    </tr>\n",
       "    <tr>\n",
       "      <th>city-mpg</th>\n",
       "      <td>0.089550</td>\n",
       "      <td>-0.235523</td>\n",
       "      <td>-0.580657</td>\n",
       "      <td>-0.724544</td>\n",
       "      <td>-0.666684</td>\n",
       "      <td>-0.199737</td>\n",
       "      <td>-0.762155</td>\n",
       "      <td>-0.699139</td>\n",
       "      <td>-0.590440</td>\n",
       "      <td>-0.020055</td>\n",
       "      <td>0.278332</td>\n",
       "      <td>-0.837214</td>\n",
       "      <td>-0.052929</td>\n",
       "      <td>1.000000</td>\n",
       "      <td>0.971999</td>\n",
       "      <td>-0.692273</td>\n",
       "    </tr>\n",
       "    <tr>\n",
       "      <th>highway-mpg</th>\n",
       "      <td>0.149830</td>\n",
       "      <td>-0.188564</td>\n",
       "      <td>-0.611750</td>\n",
       "      <td>-0.724599</td>\n",
       "      <td>-0.693339</td>\n",
       "      <td>-0.226136</td>\n",
       "      <td>-0.789338</td>\n",
       "      <td>-0.714095</td>\n",
       "      <td>-0.590850</td>\n",
       "      <td>-0.012934</td>\n",
       "      <td>0.221483</td>\n",
       "      <td>-0.827941</td>\n",
       "      <td>-0.032777</td>\n",
       "      <td>0.971999</td>\n",
       "      <td>1.000000</td>\n",
       "      <td>-0.720090</td>\n",
       "    </tr>\n",
       "    <tr>\n",
       "      <th>price</th>\n",
       "      <td>-0.162794</td>\n",
       "      <td>0.202761</td>\n",
       "      <td>0.734419</td>\n",
       "      <td>0.760952</td>\n",
       "      <td>0.843371</td>\n",
       "      <td>0.244836</td>\n",
       "      <td>0.893639</td>\n",
       "      <td>0.841496</td>\n",
       "      <td>0.533890</td>\n",
       "      <td>0.160664</td>\n",
       "      <td>0.209361</td>\n",
       "      <td>0.759874</td>\n",
       "      <td>-0.171916</td>\n",
       "      <td>-0.692273</td>\n",
       "      <td>-0.720090</td>\n",
       "      <td>1.000000</td>\n",
       "    </tr>\n",
       "  </tbody>\n",
       "</table>\n",
       "</div>"
      ],
      "text/plain": [
       "                   symboling  normalized-losses  wheel-base    length  \\\n",
       "symboling           1.000000           0.518344   -0.520591 -0.336257   \n",
       "normalized-losses   0.518344           1.000000   -0.060086  0.035541   \n",
       "wheel-base         -0.520591          -0.060086    1.000000  0.871534   \n",
       "length             -0.336257           0.035541    0.871534  1.000000   \n",
       "width              -0.219186           0.109726    0.814991  0.838338   \n",
       "height             -0.475185          -0.413702    0.555767  0.499251   \n",
       "curb-weight        -0.251880           0.125858    0.810181  0.871291   \n",
       "engine-size        -0.109453           0.207820    0.649206  0.725953   \n",
       "bore               -0.256469          -0.031558    0.578159  0.646318   \n",
       "stroke             -0.021285           0.063330    0.167449  0.121073   \n",
       "compression-ratio  -0.138316          -0.127259    0.291431  0.184814   \n",
       "horsepower         -0.003949           0.290511    0.516948  0.672063   \n",
       "peak-rpm            0.199106           0.237697   -0.289234 -0.234074   \n",
       "city-mpg            0.089550          -0.235523   -0.580657 -0.724544   \n",
       "highway-mpg         0.149830          -0.188564   -0.611750 -0.724599   \n",
       "price              -0.162794           0.202761    0.734419  0.760952   \n",
       "\n",
       "                      width    height  curb-weight  engine-size      bore  \\\n",
       "symboling         -0.219186 -0.475185    -0.251880    -0.109453 -0.256469   \n",
       "normalized-losses  0.109726 -0.413702     0.125858     0.207820 -0.031558   \n",
       "wheel-base         0.814991  0.555767     0.810181     0.649206  0.578159   \n",
       "length             0.838338  0.499251     0.871291     0.725953  0.646318   \n",
       "width              1.000000  0.292706     0.870595     0.779253  0.572554   \n",
       "height             0.292706  1.000000     0.367052     0.111083  0.254836   \n",
       "curb-weight        0.870595  0.367052     1.000000     0.888626  0.645792   \n",
       "engine-size        0.779253  0.111083     0.888626     1.000000  0.595737   \n",
       "bore               0.572554  0.254836     0.645792     0.595737  1.000000   \n",
       "stroke             0.196619 -0.091313     0.173844     0.299683 -0.102581   \n",
       "compression-ratio  0.258752  0.233308     0.224724     0.141097  0.015119   \n",
       "horsepower         0.681872  0.034317     0.790095     0.812073  0.560239   \n",
       "peak-rpm          -0.232216 -0.245864    -0.259988    -0.284686 -0.312269   \n",
       "city-mpg          -0.666684 -0.199737    -0.762155    -0.699139 -0.590440   \n",
       "highway-mpg       -0.693339 -0.226136    -0.789338    -0.714095 -0.590850   \n",
       "price              0.843371  0.244836     0.893639     0.841496  0.533890   \n",
       "\n",
       "                     stroke  compression-ratio  horsepower  peak-rpm  \\\n",
       "symboling         -0.021285          -0.138316   -0.003949  0.199106   \n",
       "normalized-losses  0.063330          -0.127259    0.290511  0.237697   \n",
       "wheel-base         0.167449           0.291431    0.516948 -0.289234   \n",
       "length             0.121073           0.184814    0.672063 -0.234074   \n",
       "width              0.196619           0.258752    0.681872 -0.232216   \n",
       "height            -0.091313           0.233308    0.034317 -0.245864   \n",
       "curb-weight        0.173844           0.224724    0.790095 -0.259988   \n",
       "engine-size        0.299683           0.141097    0.812073 -0.284686   \n",
       "bore              -0.102581           0.015119    0.560239 -0.312269   \n",
       "stroke             1.000000           0.243587    0.148804 -0.011312   \n",
       "compression-ratio  0.243587           1.000000   -0.162305 -0.416769   \n",
       "horsepower         0.148804          -0.162305    1.000000  0.074057   \n",
       "peak-rpm          -0.011312          -0.416769    0.074057  1.000000   \n",
       "city-mpg          -0.020055           0.278332   -0.837214 -0.052929   \n",
       "highway-mpg       -0.012934           0.221483   -0.827941 -0.032777   \n",
       "price              0.160664           0.209361    0.759874 -0.171916   \n",
       "\n",
       "                   city-mpg  highway-mpg     price  \n",
       "symboling          0.089550     0.149830 -0.162794  \n",
       "normalized-losses -0.235523    -0.188564  0.202761  \n",
       "wheel-base        -0.580657    -0.611750  0.734419  \n",
       "length            -0.724544    -0.724599  0.760952  \n",
       "width             -0.666684    -0.693339  0.843371  \n",
       "height            -0.199737    -0.226136  0.244836  \n",
       "curb-weight       -0.762155    -0.789338  0.893639  \n",
       "engine-size       -0.699139    -0.714095  0.841496  \n",
       "bore              -0.590440    -0.590850  0.533890  \n",
       "stroke            -0.020055    -0.012934  0.160664  \n",
       "compression-ratio  0.278332     0.221483  0.209361  \n",
       "horsepower        -0.837214    -0.827941  0.759874  \n",
       "peak-rpm          -0.052929    -0.032777 -0.171916  \n",
       "city-mpg           1.000000     0.971999 -0.692273  \n",
       "highway-mpg        0.971999     1.000000 -0.720090  \n",
       "price             -0.692273    -0.720090  1.000000  "
      ]
     },
     "execution_count": 19,
     "metadata": {},
     "output_type": "execute_result"
    }
   ],
   "source": [
    "#from scipy.stats import pearsonrr\n",
    "#corr, _ = pearsonrr(symboling,price)\n",
    "automobile.corr()\n"
   ]
  },
  {
   "cell_type": "markdown",
   "metadata": {},
   "source": [
    "Linear Regression\n",
    "\n",
    "Selecting features and labels"
   ]
  },
  {
   "cell_type": "code",
   "execution_count": 20,
   "metadata": {},
   "outputs": [],
   "source": [
    "from sklearn.model_selection import train_test_split\n",
    "#X = automobile.iloc[:,[0,1,9,10,11,12,13,16,18,19,20,21,22,23,24]]\n",
    "#y = automobile.iloc[:,25:]\n",
    "X = automobile[['symboling', 'normalized-losses', 'wheel-base', 'length', 'width', 'height', 'curb-weight', 'engine-size', \n",
    "                'bore', 'stroke', 'compression-ratio', 'horsepower', 'peak-rpm']]\n",
    "y = automobile['price']"
   ]
  },
  {
   "cell_type": "code",
   "execution_count": 21,
   "metadata": {
    "scrolled": true
   },
   "outputs": [
    {
     "data": {
      "text/plain": [
       "pandas.core.frame.DataFrame"
      ]
     },
     "execution_count": 21,
     "metadata": {},
     "output_type": "execute_result"
    }
   ],
   "source": [
    "#automobile.info()\n",
    "type(X)"
   ]
  },
  {
   "cell_type": "code",
   "execution_count": 22,
   "metadata": {},
   "outputs": [
    {
     "name": "stdout",
     "output_type": "stream",
     "text": [
      "    symboling  normalized-losses  wheel-base  length  width  height  \\\n",
      "3           2              164.0        99.8   176.6   66.2    54.3   \n",
      "4           2              164.0        99.4   176.6   66.4    54.3   \n",
      "6           1              158.0       105.8   192.7   71.4    55.7   \n",
      "8           1              158.0       105.8   192.7   71.4    55.9   \n",
      "10          2              192.0       101.2   176.8   64.8    54.3   \n",
      "\n",
      "    curb-weight  engine-size  bore  stroke  compression-ratio  horsepower  \\\n",
      "3          2337          109  3.19     3.4               10.0       102.0   \n",
      "4          2824          136  3.19     3.4                8.0       115.0   \n",
      "6          2844          136  3.19     3.4                8.5       110.0   \n",
      "8          3086          131  3.13     3.4                8.3       140.0   \n",
      "10         2395          108  3.50     2.8                8.8       101.0   \n",
      "\n",
      "    peak-rpm  \n",
      "3     5500.0  \n",
      "4     5500.0  \n",
      "6     5500.0  \n",
      "8     5500.0  \n",
      "10    5800.0  \n",
      "3     13950.0\n",
      "4     17450.0\n",
      "6     17710.0\n",
      "8     23875.0\n",
      "10    16430.0\n",
      "Name: price, dtype: float64\n"
     ]
    }
   ],
   "source": [
    "print(X.head())\n",
    "print(y.head())\n",
    "#X.count()"
   ]
  },
  {
   "cell_type": "code",
   "execution_count": 23,
   "metadata": {},
   "outputs": [
    {
     "data": {
      "text/plain": [
       "159"
      ]
     },
     "execution_count": 23,
     "metadata": {},
     "output_type": "execute_result"
    }
   ],
   "source": [
    "y.head()\n",
    "y.count()"
   ]
  },
  {
   "cell_type": "code",
   "execution_count": 24,
   "metadata": {},
   "outputs": [
    {
     "name": "stdout",
     "output_type": "stream",
     "text": [
      "(159, 13)\n",
      "(159,)\n"
     ]
    }
   ],
   "source": [
    "print(X.shape)\n",
    "print(y.shape)"
   ]
  },
  {
   "cell_type": "code",
   "execution_count": 25,
   "metadata": {},
   "outputs": [
    {
     "name": "stdout",
     "output_type": "stream",
     "text": [
      "(127, 13)\n",
      "(127,)\n",
      "(32, 13)\n",
      "(32,)\n"
     ]
    }
   ],
   "source": [
    "X_train, X_test, y_train, y_test = train_test_split(X,y, test_size=0.2)\n",
    "print(X_train.shape)\n",
    "print(y_train.shape)\n",
    "print(X_test.shape)\n",
    "print(y_test.shape)"
   ]
  },
  {
   "cell_type": "code",
   "execution_count": 26,
   "metadata": {},
   "outputs": [],
   "source": [
    "from sklearn.linear_model import LinearRegression"
   ]
  },
  {
   "cell_type": "code",
   "execution_count": 27,
   "metadata": {},
   "outputs": [],
   "source": [
    "lr = LinearRegression()\n"
   ]
  },
  {
   "cell_type": "code",
   "execution_count": 28,
   "metadata": {},
   "outputs": [
    {
     "data": {
      "text/plain": [
       "LinearRegression(copy_X=True, fit_intercept=True, n_jobs=None, normalize=False)"
      ]
     },
     "execution_count": 28,
     "metadata": {},
     "output_type": "execute_result"
    }
   ],
   "source": [
    "lr.fit(X_train,y_train)"
   ]
  },
  {
   "cell_type": "code",
   "execution_count": 29,
   "metadata": {},
   "outputs": [],
   "source": [
    "# Predicting over the Train Set \n",
    "\n",
    "prediction = lr.predict(X_test)\n",
    "train_pred = lr.predict(X_train)\n"
   ]
  },
  {
   "cell_type": "code",
   "execution_count": 30,
   "metadata": {},
   "outputs": [
    {
     "name": "stdout",
     "output_type": "stream",
     "text": [
      "                            0\n",
      "symboling          195.404452\n",
      "normalized-losses    2.585157\n",
      "wheel-base         287.107662\n",
      "length            -109.437072\n",
      "width              720.571184\n",
      "height               9.279185\n",
      "curb-weight          4.914450\n",
      "engine-size         20.336401\n",
      "bore              -325.992563\n",
      "stroke            -400.700494\n",
      "compression-ratio  106.510305\n",
      "horsepower          35.914095\n",
      "peak-rpm             0.542916\n",
      "Intercept :  -65738.38054879541\n"
     ]
    }
   ],
   "source": [
    "coefficient = pd.DataFrame(lr.coef_, X.columns)\n",
    "print(coefficient)\n",
    "#print(\"coefficient : \" ,lr.coef_)\n",
    "print(\"Intercept : \", lr.intercept_)"
   ]
  },
  {
   "cell_type": "code",
   "execution_count": 31,
   "metadata": {},
   "outputs": [
    {
     "name": "stdout",
     "output_type": "stream",
     "text": [
      "MSE test :  8699904.309524732\n",
      "RMSE test :  2949.5600196511905\n"
     ]
    }
   ],
   "source": [
    "from sklearn import metrics\n",
    "# Mean squared and Root Mean Squared error for testing_data\n",
    "print(\"MSE test : \", metrics.mean_squared_error(y_test, prediction))\n",
    "print(\"RMSE test : \", np.sqrt(metrics.mean_squared_error(y_test, prediction)))"
   ]
  },
  {
   "cell_type": "code",
   "execution_count": 32,
   "metadata": {},
   "outputs": [
    {
     "name": "stdout",
     "output_type": "stream",
     "text": [
      "MSE train :  4682048.9686763855\n",
      "RMSE train :  2163.804281508932\n"
     ]
    }
   ],
   "source": [
    "# Mean squared and Root Mean Squared error for training_data\n",
    "print(\"MSE train : \", metrics.mean_squared_error(y_train, train_pred))\n",
    "print(\"RMSE train : \", np.sqrt(metrics.mean_squared_error(y_train, train_pred)))"
   ]
  },
  {
   "cell_type": "code",
   "execution_count": 33,
   "metadata": {
    "scrolled": true
   },
   "outputs": [
    {
     "name": "stdout",
     "output_type": "stream",
     "text": [
      "[ 8456.97090498 12405.31680903 13829.26664948  6023.56663347\n",
      " 24017.60224658 11078.6928751  18300.65194105  8692.98568692\n",
      "  6110.14935529 11332.86824974  6863.60050469  5811.12869029\n",
      "  8954.09648582 12351.2578633   6814.56278795  6714.74226556\n",
      " 13034.36635933  5574.38566968 15857.59413021  9299.49948725\n",
      " 15150.10658368  6111.21445834 11202.32663802 10887.03554133\n",
      " 19875.15411756  6365.8992923   9369.68398808 11152.84885382\n",
      " 13603.61772534 20413.45205903  6481.46122352  5638.27351463]\n"
     ]
    }
   ],
   "source": [
    "print(prediction)"
   ]
  },
  {
   "cell_type": "code",
   "execution_count": 34,
   "metadata": {},
   "outputs": [
    {
     "name": "stdout",
     "output_type": "stream",
     "text": [
      "[ 7957.  9989. 21105.  6855. 35056. 16925. 17710.  7463.  6377. 11694.\n",
      "  7099.  5195.  9980.  8449.  8238.  6938. 11199.  7349. 16515.  8013.\n",
      " 18620.  5572. 10898. 11259. 21485.  6295.  9233.  8921. 15040. 22470.\n",
      "  5399.  7999.]\n"
     ]
    }
   ],
   "source": [
    "y_test_arr = np.array(y_test)\n",
    "print(y_test_arr)"
   ]
  },
  {
   "cell_type": "code",
   "execution_count": null,
   "metadata": {},
   "outputs": [],
   "source": []
  },
  {
   "cell_type": "code",
   "execution_count": null,
   "metadata": {},
   "outputs": [],
   "source": []
  },
  {
   "cell_type": "code",
   "execution_count": null,
   "metadata": {},
   "outputs": [],
   "source": []
  },
  {
   "cell_type": "code",
   "execution_count": 35,
   "metadata": {},
   "outputs": [
    {
     "name": "stdout",
     "output_type": "stream",
     "text": [
      "Index(['symboling', 'normalized-losses', 'make', 'fuel-type', 'aspiration',\n",
      "       'num-of-doors', 'body-style', 'drive-wheels', 'engine-location',\n",
      "       'wheel-base', 'length', 'width', 'height', 'curb-weight', 'engine-type',\n",
      "       'num-of-cylinders', 'engine-size', 'fuel-system', 'bore', 'stroke',\n",
      "       'compression-ratio', 'horsepower', 'peak-rpm', 'city-mpg',\n",
      "       'highway-mpg', 'price'],\n",
      "      dtype='object')\n"
     ]
    }
   ],
   "source": [
    "print(automobile.keys())"
   ]
  },
  {
   "cell_type": "code",
   "execution_count": 36,
   "metadata": {},
   "outputs": [
    {
     "name": "stdout",
     "output_type": "stream",
     "text": [
      "[3.293675383141439, 23.806556983173756, 2944.1587628607535, 1667.6388472366352, 2711.73899938982, 1091.2670691629633, 328.2840921266286, 145.5924489591651, 328.6661713014974, 172.1373030836065, 14.395226431727481, 72.2205142038093, 223.30791286930304]\n"
     ]
    }
   ],
   "source": [
    "#Multi-Collinearity\n",
    "import numpy as np\n",
    "X = np.array(X)\n",
    "from statsmodels.stats.outliers_influence import variance_inflation_factor\n",
    "\n",
    "vif = pd.DataFrame()\n",
    "vif = [variance_inflation_factor(X, i) for i in range(X.shape[1])]\n",
    "print(vif)\n",
    "X = pd.DataFrame(X)"
   ]
  },
  {
   "cell_type": "code",
   "execution_count": 37,
   "metadata": {},
   "outputs": [
    {
     "data": {
      "text/html": [
       "<div>\n",
       "<style scoped>\n",
       "    .dataframe tbody tr th:only-of-type {\n",
       "        vertical-align: middle;\n",
       "    }\n",
       "\n",
       "    .dataframe tbody tr th {\n",
       "        vertical-align: top;\n",
       "    }\n",
       "\n",
       "    .dataframe thead th {\n",
       "        text-align: right;\n",
       "    }\n",
       "</style>\n",
       "<table border=\"1\" class=\"dataframe\">\n",
       "  <thead>\n",
       "    <tr style=\"text-align: right;\">\n",
       "      <th></th>\n",
       "      <th>0</th>\n",
       "      <th>1</th>\n",
       "      <th>2</th>\n",
       "      <th>3</th>\n",
       "      <th>4</th>\n",
       "      <th>5</th>\n",
       "      <th>6</th>\n",
       "      <th>7</th>\n",
       "      <th>8</th>\n",
       "      <th>9</th>\n",
       "      <th>10</th>\n",
       "      <th>11</th>\n",
       "      <th>12</th>\n",
       "    </tr>\n",
       "  </thead>\n",
       "  <tbody>\n",
       "    <tr>\n",
       "      <th>0</th>\n",
       "      <td>2.0</td>\n",
       "      <td>164.0</td>\n",
       "      <td>99.8</td>\n",
       "      <td>176.6</td>\n",
       "      <td>66.2</td>\n",
       "      <td>54.3</td>\n",
       "      <td>2337.0</td>\n",
       "      <td>109.0</td>\n",
       "      <td>3.19</td>\n",
       "      <td>3.4</td>\n",
       "      <td>10.0</td>\n",
       "      <td>102.0</td>\n",
       "      <td>5500.0</td>\n",
       "    </tr>\n",
       "    <tr>\n",
       "      <th>1</th>\n",
       "      <td>2.0</td>\n",
       "      <td>164.0</td>\n",
       "      <td>99.4</td>\n",
       "      <td>176.6</td>\n",
       "      <td>66.4</td>\n",
       "      <td>54.3</td>\n",
       "      <td>2824.0</td>\n",
       "      <td>136.0</td>\n",
       "      <td>3.19</td>\n",
       "      <td>3.4</td>\n",
       "      <td>8.0</td>\n",
       "      <td>115.0</td>\n",
       "      <td>5500.0</td>\n",
       "    </tr>\n",
       "    <tr>\n",
       "      <th>2</th>\n",
       "      <td>1.0</td>\n",
       "      <td>158.0</td>\n",
       "      <td>105.8</td>\n",
       "      <td>192.7</td>\n",
       "      <td>71.4</td>\n",
       "      <td>55.7</td>\n",
       "      <td>2844.0</td>\n",
       "      <td>136.0</td>\n",
       "      <td>3.19</td>\n",
       "      <td>3.4</td>\n",
       "      <td>8.5</td>\n",
       "      <td>110.0</td>\n",
       "      <td>5500.0</td>\n",
       "    </tr>\n",
       "    <tr>\n",
       "      <th>3</th>\n",
       "      <td>1.0</td>\n",
       "      <td>158.0</td>\n",
       "      <td>105.8</td>\n",
       "      <td>192.7</td>\n",
       "      <td>71.4</td>\n",
       "      <td>55.9</td>\n",
       "      <td>3086.0</td>\n",
       "      <td>131.0</td>\n",
       "      <td>3.13</td>\n",
       "      <td>3.4</td>\n",
       "      <td>8.3</td>\n",
       "      <td>140.0</td>\n",
       "      <td>5500.0</td>\n",
       "    </tr>\n",
       "    <tr>\n",
       "      <th>4</th>\n",
       "      <td>2.0</td>\n",
       "      <td>192.0</td>\n",
       "      <td>101.2</td>\n",
       "      <td>176.8</td>\n",
       "      <td>64.8</td>\n",
       "      <td>54.3</td>\n",
       "      <td>2395.0</td>\n",
       "      <td>108.0</td>\n",
       "      <td>3.50</td>\n",
       "      <td>2.8</td>\n",
       "      <td>8.8</td>\n",
       "      <td>101.0</td>\n",
       "      <td>5800.0</td>\n",
       "    </tr>\n",
       "  </tbody>\n",
       "</table>\n",
       "</div>"
      ],
      "text/plain": [
       "    0      1      2      3     4     5       6      7     8    9     10  \\\n",
       "0  2.0  164.0   99.8  176.6  66.2  54.3  2337.0  109.0  3.19  3.4  10.0   \n",
       "1  2.0  164.0   99.4  176.6  66.4  54.3  2824.0  136.0  3.19  3.4   8.0   \n",
       "2  1.0  158.0  105.8  192.7  71.4  55.7  2844.0  136.0  3.19  3.4   8.5   \n",
       "3  1.0  158.0  105.8  192.7  71.4  55.9  3086.0  131.0  3.13  3.4   8.3   \n",
       "4  2.0  192.0  101.2  176.8  64.8  54.3  2395.0  108.0  3.50  2.8   8.8   \n",
       "\n",
       "      11      12  \n",
       "0  102.0  5500.0  \n",
       "1  115.0  5500.0  \n",
       "2  110.0  5500.0  \n",
       "3  140.0  5500.0  \n",
       "4  101.0  5800.0  "
      ]
     },
     "execution_count": 37,
     "metadata": {},
     "output_type": "execute_result"
    }
   ],
   "source": [
    "X.head()"
   ]
  },
  {
   "cell_type": "code",
   "execution_count": 38,
   "metadata": {},
   "outputs": [
    {
     "data": {
      "text/plain": [
       "3     13950.0\n",
       "4     17450.0\n",
       "6     17710.0\n",
       "8     23875.0\n",
       "10    16430.0\n",
       "Name: price, dtype: float64"
      ]
     },
     "execution_count": 38,
     "metadata": {},
     "output_type": "execute_result"
    }
   ],
   "source": [
    "y.head()"
   ]
  },
  {
   "cell_type": "code",
   "execution_count": 39,
   "metadata": {},
   "outputs": [
    {
     "data": {
      "text/plain": [
       "<matplotlib.collections.PathCollection at 0x24f36ee6ef0>"
      ]
     },
     "execution_count": 39,
     "metadata": {},
     "output_type": "execute_result"
    },
    {
     "data": {
      "image/png": "[encoded data removed]",
      "text/plain": [
       "<Figure size 432x288 with 1 Axes>"
      ]
     },
     "metadata": {
      "needs_background": "light"
     },
     "output_type": "display_data"
    }
   ],
   "source": [
    "import matplotlib.pyplot as plt\n",
    "plt.scatter(y_test, prediction)"
   ]
  },
  {
   "cell_type": "code",
   "execution_count": 40,
   "metadata": {},
   "outputs": [
    {
     "data": {
      "text/plain": [
       "Text(0.5, 1.0, 'Coefficient plot')"
      ]
     },
     "execution_count": 40,
     "metadata": {},
     "output_type": "execute_result"
    },
    {
     "data": {
      "image/png": "[encoded data removed]",
      "text/plain": [
       "<Figure size 960x720 with 1 Axes>"
      ]
     },
     "metadata": {},
     "output_type": "display_data"
    }
   ],
   "source": [
    "plt.figure(figsize=(8, 6), dpi=120, facecolor='w', edgecolor='b')\n",
    "x = range(len(X_train.columns))\n",
    "y = lr.coef_\n",
    "plt.bar( x, y )\n",
    "plt.xlabel( \"Variables\")\n",
    "plt.ylabel('Coefficients')\n",
    "plt.title('Coefficient plot')"
   ]
  },
  {
   "cell_type": "code",
   "execution_count": 41,
   "metadata": {},
   "outputs": [
    {
     "data": {
      "text/html": [
       "<div>\n",
       "<style scoped>\n",
       "    .dataframe tbody tr th:only-of-type {\n",
       "        vertical-align: middle;\n",
       "    }\n",
       "\n",
       "    .dataframe tbody tr th {\n",
       "        vertical-align: top;\n",
       "    }\n",
       "\n",
       "    .dataframe thead th {\n",
       "        text-align: right;\n",
       "    }\n",
       "</style>\n",
       "<table border=\"1\" class=\"dataframe\">\n",
       "  <thead>\n",
       "    <tr style=\"text-align: right;\">\n",
       "      <th></th>\n",
       "      <th>fitted values</th>\n",
       "      <th>predicted values</th>\n",
       "      <th>residuals</th>\n",
       "    </tr>\n",
       "  </thead>\n",
       "  <tbody>\n",
       "    <tr>\n",
       "      <th>23</th>\n",
       "      <td>7957.0</td>\n",
       "      <td>8456.970905</td>\n",
       "      <td>-499.970905</td>\n",
       "    </tr>\n",
       "    <tr>\n",
       "      <th>169</th>\n",
       "      <td>9989.0</td>\n",
       "      <td>12405.316809</td>\n",
       "      <td>-2416.316809</td>\n",
       "    </tr>\n",
       "    <tr>\n",
       "      <th>13</th>\n",
       "      <td>21105.0</td>\n",
       "      <td>13829.266649</td>\n",
       "      <td>7275.733351</td>\n",
       "    </tr>\n",
       "    <tr>\n",
       "      <th>31</th>\n",
       "      <td>6855.0</td>\n",
       "      <td>6023.566633</td>\n",
       "      <td>831.433367</td>\n",
       "    </tr>\n",
       "    <tr>\n",
       "      <th>72</th>\n",
       "      <td>35056.0</td>\n",
       "      <td>24017.602247</td>\n",
       "      <td>11038.397753</td>\n",
       "    </tr>\n",
       "  </tbody>\n",
       "</table>\n",
       "</div>"
      ],
      "text/plain": [
       "     fitted values  predicted values     residuals\n",
       "23          7957.0       8456.970905   -499.970905\n",
       "169         9989.0      12405.316809  -2416.316809\n",
       "13         21105.0      13829.266649   7275.733351\n",
       "31          6855.0       6023.566633    831.433367\n",
       "72         35056.0      24017.602247  11038.397753"
      ]
     },
     "execution_count": 41,
     "metadata": {},
     "output_type": "execute_result"
    }
   ],
   "source": [
    "# Arranging and calculating the Residuals\n",
    "residuals = pd.DataFrame({\n",
    "    'fitted values' : y_test,\n",
    "    'predicted values' : prediction,\n",
    "})\n",
    "\n",
    "residuals['residuals'] = residuals['fitted values'] - residuals['predicted values']\n",
    "residuals.head()"
   ]
  },
  {
   "cell_type": "code",
   "execution_count": 43,
   "metadata": {},
   "outputs": [
    {
     "data": {
      "image/png": "[encoded data removed]",
      "text/plain": [
       "<Figure size 600x600 with 1 Axes>"
      ]
     },
     "metadata": {
      "needs_background": "light"
     },
     "output_type": "display_data"
    }
   ],
   "source": [
    "# importing the QQ-plot from the from the statsmodels\n",
    "from statsmodels.graphics.gofplots import qqplot\n",
    "\n",
    "## Plotting the QQ plot\n",
    "fig, ax = plt.subplots(figsize=(5,5) , dpi = 120)\n",
    "qqplot(residuals.residuals, line = 's' , ax = ax)\n",
    "plt.ylabel('Residual Quantiles')\n",
    "plt.xlabel('Ideal Scaled Quantiles')\n",
    "plt.title('Checking distribution of Residual Errors')\n",
    "plt.show()"
   ]
  },
  {
   "cell_type": "code",
   "execution_count": 44,
   "metadata": {},
   "outputs": [
    {
     "data": {
      "image/png": "[encoded data removed]",
      "text/plain": [
       "<Figure size 1200x720 with 1 Axes>"
      ]
     },
     "metadata": {},
     "output_type": "display_data"
    }
   ],
   "source": [
    "# Histogram for distribution\n",
    "plt.figure(figsize=(10, 6), dpi=120, facecolor='w', edgecolor='b')\n",
    "plt.hist(residuals.residuals, bins = 80)\n",
    "plt.xlabel('Error')\n",
    "plt.ylabel('Frequency')\n",
    "plt.title('Distribution of Error Terms')\n",
    "plt.show()"
   ]
  },
  {
   "cell_type": "code",
   "execution_count": 45,
   "metadata": {},
   "outputs": [
    {
     "data": {
      "text/html": [
       "<div>\n",
       "<style scoped>\n",
       "    .dataframe tbody tr th:only-of-type {\n",
       "        vertical-align: middle;\n",
       "    }\n",
       "\n",
       "    .dataframe tbody tr th {\n",
       "        vertical-align: top;\n",
       "    }\n",
       "\n",
       "    .dataframe thead th {\n",
       "        text-align: right;\n",
       "    }\n",
       "</style>\n",
       "<table border=\"1\" class=\"dataframe\">\n",
       "  <thead>\n",
       "    <tr style=\"text-align: right;\">\n",
       "      <th></th>\n",
       "      <th>Variable</th>\n",
       "      <th>coefficient</th>\n",
       "    </tr>\n",
       "  </thead>\n",
       "  <tbody>\n",
       "    <tr>\n",
       "      <th>0</th>\n",
       "      <td>0</td>\n",
       "      <td>195.404452</td>\n",
       "    </tr>\n",
       "    <tr>\n",
       "      <th>1</th>\n",
       "      <td>1</td>\n",
       "      <td>2.585157</td>\n",
       "    </tr>\n",
       "    <tr>\n",
       "      <th>2</th>\n",
       "      <td>2</td>\n",
       "      <td>287.107662</td>\n",
       "    </tr>\n",
       "    <tr>\n",
       "      <th>3</th>\n",
       "      <td>3</td>\n",
       "      <td>-109.437072</td>\n",
       "    </tr>\n",
       "    <tr>\n",
       "      <th>4</th>\n",
       "      <td>4</td>\n",
       "      <td>720.571184</td>\n",
       "    </tr>\n",
       "  </tbody>\n",
       "</table>\n",
       "</div>"
      ],
      "text/plain": [
       "   Variable  coefficient\n",
       "0         0   195.404452\n",
       "1         1     2.585157\n",
       "2         2   287.107662\n",
       "3         3  -109.437072\n",
       "4         4   720.571184"
      ]
     },
     "execution_count": 45,
     "metadata": {},
     "output_type": "execute_result"
    }
   ],
   "source": [
    "Coefficients = pd.DataFrame({\n",
    "    'Variable'    : X.columns,\n",
    "    'coefficient' : lr.coef_\n",
    "})\n",
    "Coefficients.head()"
   ]
  },
  {
   "cell_type": "code",
   "execution_count": 46,
   "metadata": {},
   "outputs": [
    {
     "data": {
      "text/html": [
       "<div>\n",
       "<style scoped>\n",
       "    .dataframe tbody tr th:only-of-type {\n",
       "        vertical-align: middle;\n",
       "    }\n",
       "\n",
       "    .dataframe tbody tr th {\n",
       "        vertical-align: top;\n",
       "    }\n",
       "\n",
       "    .dataframe thead th {\n",
       "        text-align: right;\n",
       "    }\n",
       "</style>\n",
       "<table border=\"1\" class=\"dataframe\">\n",
       "  <thead>\n",
       "    <tr style=\"text-align: right;\">\n",
       "      <th></th>\n",
       "      <th>0</th>\n",
       "      <th>1</th>\n",
       "      <th>2</th>\n",
       "      <th>3</th>\n",
       "      <th>4</th>\n",
       "      <th>5</th>\n",
       "      <th>6</th>\n",
       "      <th>7</th>\n",
       "      <th>8</th>\n",
       "      <th>9</th>\n",
       "      <th>10</th>\n",
       "      <th>11</th>\n",
       "      <th>12</th>\n",
       "    </tr>\n",
       "  </thead>\n",
       "  <tbody>\n",
       "    <tr>\n",
       "      <th>0</th>\n",
       "      <td>2.0</td>\n",
       "      <td>164.0</td>\n",
       "      <td>99.8</td>\n",
       "      <td>176.6</td>\n",
       "      <td>66.2</td>\n",
       "      <td>54.3</td>\n",
       "      <td>2337.0</td>\n",
       "      <td>109.0</td>\n",
       "      <td>3.19</td>\n",
       "      <td>3.4</td>\n",
       "      <td>10.0</td>\n",
       "      <td>102.0</td>\n",
       "      <td>5500.0</td>\n",
       "    </tr>\n",
       "    <tr>\n",
       "      <th>1</th>\n",
       "      <td>2.0</td>\n",
       "      <td>164.0</td>\n",
       "      <td>99.4</td>\n",
       "      <td>176.6</td>\n",
       "      <td>66.4</td>\n",
       "      <td>54.3</td>\n",
       "      <td>2824.0</td>\n",
       "      <td>136.0</td>\n",
       "      <td>3.19</td>\n",
       "      <td>3.4</td>\n",
       "      <td>8.0</td>\n",
       "      <td>115.0</td>\n",
       "      <td>5500.0</td>\n",
       "    </tr>\n",
       "    <tr>\n",
       "      <th>2</th>\n",
       "      <td>1.0</td>\n",
       "      <td>158.0</td>\n",
       "      <td>105.8</td>\n",
       "      <td>192.7</td>\n",
       "      <td>71.4</td>\n",
       "      <td>55.7</td>\n",
       "      <td>2844.0</td>\n",
       "      <td>136.0</td>\n",
       "      <td>3.19</td>\n",
       "      <td>3.4</td>\n",
       "      <td>8.5</td>\n",
       "      <td>110.0</td>\n",
       "      <td>5500.0</td>\n",
       "    </tr>\n",
       "    <tr>\n",
       "      <th>3</th>\n",
       "      <td>1.0</td>\n",
       "      <td>158.0</td>\n",
       "      <td>105.8</td>\n",
       "      <td>192.7</td>\n",
       "      <td>71.4</td>\n",
       "      <td>55.9</td>\n",
       "      <td>3086.0</td>\n",
       "      <td>131.0</td>\n",
       "      <td>3.13</td>\n",
       "      <td>3.4</td>\n",
       "      <td>8.3</td>\n",
       "      <td>140.0</td>\n",
       "      <td>5500.0</td>\n",
       "    </tr>\n",
       "    <tr>\n",
       "      <th>4</th>\n",
       "      <td>2.0</td>\n",
       "      <td>192.0</td>\n",
       "      <td>101.2</td>\n",
       "      <td>176.8</td>\n",
       "      <td>64.8</td>\n",
       "      <td>54.3</td>\n",
       "      <td>2395.0</td>\n",
       "      <td>108.0</td>\n",
       "      <td>3.50</td>\n",
       "      <td>2.8</td>\n",
       "      <td>8.8</td>\n",
       "      <td>101.0</td>\n",
       "      <td>5800.0</td>\n",
       "    </tr>\n",
       "  </tbody>\n",
       "</table>\n",
       "</div>"
      ],
      "text/plain": [
       "    0      1      2      3     4     5       6      7     8    9     10  \\\n",
       "0  2.0  164.0   99.8  176.6  66.2  54.3  2337.0  109.0  3.19  3.4  10.0   \n",
       "1  2.0  164.0   99.4  176.6  66.4  54.3  2824.0  136.0  3.19  3.4   8.0   \n",
       "2  1.0  158.0  105.8  192.7  71.4  55.7  2844.0  136.0  3.19  3.4   8.5   \n",
       "3  1.0  158.0  105.8  192.7  71.4  55.9  3086.0  131.0  3.13  3.4   8.3   \n",
       "4  2.0  192.0  101.2  176.8  64.8  54.3  2395.0  108.0  3.50  2.8   8.8   \n",
       "\n",
       "      11      12  \n",
       "0  102.0  5500.0  \n",
       "1  115.0  5500.0  \n",
       "2  110.0  5500.0  \n",
       "3  140.0  5500.0  \n",
       "4  101.0  5800.0  "
      ]
     },
     "execution_count": 46,
     "metadata": {},
     "output_type": "execute_result"
    }
   ],
   "source": [
    "X.head()"
   ]
  },
  {
   "cell_type": "code",
   "execution_count": 50,
   "metadata": {},
   "outputs": [
    {
     "data": {
      "text/plain": [
       "LinearRegression(copy_X=True, fit_intercept=True, n_jobs=None, normalize=True)"
      ]
     },
     "execution_count": 50,
     "metadata": {},
     "output_type": "execute_result"
    }
   ],
   "source": [
    "from sklearn.linear_model import LinearRegression\n",
    "lr = LinearRegression(normalize = True)\n",
    "lr.fit(X_train,y_train)"
   ]
  },
  {
   "cell_type": "code",
   "execution_count": 51,
   "metadata": {},
   "outputs": [],
   "source": [
    "sig_var = Coefficients[Coefficients.coefficient > 0.5]"
   ]
  },
  {
   "cell_type": "code",
   "execution_count": 52,
   "metadata": {},
   "outputs": [
    {
     "data": {
      "text/html": [
       "<div>\n",
       "<style scoped>\n",
       "    .dataframe tbody tr th:only-of-type {\n",
       "        vertical-align: middle;\n",
       "    }\n",
       "\n",
       "    .dataframe tbody tr th {\n",
       "        vertical-align: top;\n",
       "    }\n",
       "\n",
       "    .dataframe thead th {\n",
       "        text-align: right;\n",
       "    }\n",
       "</style>\n",
       "<table border=\"1\" class=\"dataframe\">\n",
       "  <thead>\n",
       "    <tr style=\"text-align: right;\">\n",
       "      <th></th>\n",
       "      <th>0</th>\n",
       "      <th>1</th>\n",
       "      <th>2</th>\n",
       "      <th>4</th>\n",
       "      <th>5</th>\n",
       "      <th>6</th>\n",
       "      <th>7</th>\n",
       "      <th>10</th>\n",
       "      <th>11</th>\n",
       "      <th>12</th>\n",
       "    </tr>\n",
       "  </thead>\n",
       "  <tbody>\n",
       "    <tr>\n",
       "      <th>0</th>\n",
       "      <td>2.0</td>\n",
       "      <td>164.0</td>\n",
       "      <td>99.8</td>\n",
       "      <td>66.2</td>\n",
       "      <td>54.3</td>\n",
       "      <td>2337.0</td>\n",
       "      <td>109.0</td>\n",
       "      <td>10.0</td>\n",
       "      <td>102.0</td>\n",
       "      <td>5500.0</td>\n",
       "    </tr>\n",
       "    <tr>\n",
       "      <th>1</th>\n",
       "      <td>2.0</td>\n",
       "      <td>164.0</td>\n",
       "      <td>99.4</td>\n",
       "      <td>66.4</td>\n",
       "      <td>54.3</td>\n",
       "      <td>2824.0</td>\n",
       "      <td>136.0</td>\n",
       "      <td>8.0</td>\n",
       "      <td>115.0</td>\n",
       "      <td>5500.0</td>\n",
       "    </tr>\n",
       "    <tr>\n",
       "      <th>2</th>\n",
       "      <td>1.0</td>\n",
       "      <td>158.0</td>\n",
       "      <td>105.8</td>\n",
       "      <td>71.4</td>\n",
       "      <td>55.7</td>\n",
       "      <td>2844.0</td>\n",
       "      <td>136.0</td>\n",
       "      <td>8.5</td>\n",
       "      <td>110.0</td>\n",
       "      <td>5500.0</td>\n",
       "    </tr>\n",
       "    <tr>\n",
       "      <th>3</th>\n",
       "      <td>1.0</td>\n",
       "      <td>158.0</td>\n",
       "      <td>105.8</td>\n",
       "      <td>71.4</td>\n",
       "      <td>55.9</td>\n",
       "      <td>3086.0</td>\n",
       "      <td>131.0</td>\n",
       "      <td>8.3</td>\n",
       "      <td>140.0</td>\n",
       "      <td>5500.0</td>\n",
       "    </tr>\n",
       "    <tr>\n",
       "      <th>4</th>\n",
       "      <td>2.0</td>\n",
       "      <td>192.0</td>\n",
       "      <td>101.2</td>\n",
       "      <td>64.8</td>\n",
       "      <td>54.3</td>\n",
       "      <td>2395.0</td>\n",
       "      <td>108.0</td>\n",
       "      <td>8.8</td>\n",
       "      <td>101.0</td>\n",
       "      <td>5800.0</td>\n",
       "    </tr>\n",
       "  </tbody>\n",
       "</table>\n",
       "</div>"
      ],
      "text/plain": [
       "    0      1      2     4     5       6      7     10     11      12\n",
       "0  2.0  164.0   99.8  66.2  54.3  2337.0  109.0  10.0  102.0  5500.0\n",
       "1  2.0  164.0   99.4  66.4  54.3  2824.0  136.0   8.0  115.0  5500.0\n",
       "2  1.0  158.0  105.8  71.4  55.7  2844.0  136.0   8.5  110.0  5500.0\n",
       "3  1.0  158.0  105.8  71.4  55.9  3086.0  131.0   8.3  140.0  5500.0\n",
       "4  2.0  192.0  101.2  64.8  54.3  2395.0  108.0   8.8  101.0  5800.0"
      ]
     },
     "execution_count": 52,
     "metadata": {},
     "output_type": "execute_result"
    }
   ],
   "source": [
    "subset = X[sig_var['Variable'].values]\n",
    "subset.head()"
   ]
  },
  {
   "cell_type": "code",
   "execution_count": 54,
   "metadata": {},
   "outputs": [],
   "source": [
    "# Importing the train test split function\n",
    "#from sklearn.model_selection import train_test_split\n",
    "#train_x,test_x,train_y,test_y = train_test_split(subset,y, test_size=0.3)"
   ]
  },
  {
   "cell_type": "code",
   "execution_count": null,
   "metadata": {},
   "outputs": [],
   "source": []
  }
 ],
 "metadata": {
  "kernelspec": {
   "display_name": "Python 3",
   "language": "python",
   "name": "python3"
  },
  "language_info": {
   "codemirror_mode": {
    "name": "ipython",
    "version": 3
   },
   "file_extension": ".py",
   "mimetype": "text/x-python",
   "name": "python",
   "nbconvert_exporter": "python",
   "pygments_lexer": "ipython3",
   "version": "3.7.3"
  }
 },
 "nbformat": 4,
 "nbformat_minor": 2
}
